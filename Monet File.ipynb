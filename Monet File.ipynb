{
 "cells": [
  {
   "cell_type": "code",
   "execution_count": 1,
   "id": "2751e89f",
   "metadata": {},
   "outputs": [],
   "source": [
    "import tensorflow as tf\n",
    "from tensorflow.keras.utils import plot_model\n",
    "import gc\n",
    "import math\n",
    "from IPython.display import clear_output\n",
    "import time\n",
    "import os\n",
    "import matplotlib.pyplot as plt\n",
    "import glob\n",
    "import pathlib"
   ]
  },
  {
   "cell_type": "code",
   "execution_count": 2,
   "id": "1cee0d64",
   "metadata": {},
   "outputs": [],
   "source": [
    "# Instance Normalization\n",
    "\n",
    "class InstanceNormalization(tf.keras.layers.Layer):\n",
    "\n",
    "    def __init__(self, epsilon=1e-5):\n",
    "        super(InstanceNormalization, self).__init__()\n",
    "        self.epsilon = epsilon\n",
    "\n",
    "    def build(self, input_shape):\n",
    "        self.scale = self.add_weight(\n",
    "            name='scale',\n",
    "            shape=input_shape[-1:],\n",
    "            initializer=tf.compat.v1.truncated_normal_initializer(1., 0.02),\n",
    "            trainable=True)\n",
    "\n",
    "        self.offset = self.add_weight(\n",
    "            name='offset',\n",
    "            shape=input_shape[-1:],\n",
    "            initializer=tf.constant_initializer(0),\n",
    "            trainable=True)\n",
    "\n",
    "    def call(self, x):\n",
    "        mean, variance = tf.nn.moments(x, axes=[1, 2], keepdims=True)\n",
    "        inv = tf.math.rsqrt(variance + self.epsilon)\n",
    "        normalized = (x - mean) * inv\n",
    "        return self.scale * normalized + self.offset"
   ]
  },
  {
   "cell_type": "code",
   "execution_count": 3,
   "id": "4a29d165",
   "metadata": {},
   "outputs": [],
   "source": [
    "def c7s1_k(k, initializer='glorot_uniform', act='relu'):\n",
    "    '''\n",
    "    7×7 Convolution-InstanceNorm-ReLU layer with k filters and stride 1.\n",
    "    '''\n",
    "    model = tf.keras.models.Sequential()\n",
    "\n",
    "    model.add(tf.keras.layers.Conv2D(filters=k, kernel_size=(7,7), strides=(1,1), padding='same', \\\n",
    "                                     kernel_initializer=initializer, use_bias=False))\n",
    "    model.add(InstanceNormalization())\n",
    "    model.add(tf.keras.layers.Activation(act))\n",
    "    \n",
    "    return model"
   ]
  },
  {
   "cell_type": "code",
   "execution_count": 4,
   "id": "123956d9",
   "metadata": {},
   "outputs": [],
   "source": [
    "def dk(k, initializer):\n",
    "    '''\n",
    "    3 × 3 Convolution-InstanceNorm-ReLU layer with k filters and stride 2 \n",
    "    '''\n",
    "    model = tf.keras.models.Sequential()\n",
    "    model.add(tf.keras.layers.Conv2D(filters=k, kernel_size=(3,3), strides=(2,2), padding='same', \\\n",
    "                                     kernel_initializer=initializer, use_bias=False))\n",
    "    model.add(InstanceNormalization())\n",
    "    model.add(tf.keras.layers.ReLU())\n",
    "    \n",
    "    return model"
   ]
  },
  {
   "cell_type": "code",
   "execution_count": 5,
   "id": "1922498c",
   "metadata": {},
   "outputs": [],
   "source": [
    "class Rk(tf.keras.Model):\n",
    "    def __init__(self, k, initializer):\n",
    "        super(Rk, self).__init__()\n",
    "        self.initializer = initializer\n",
    "        self.k = k\n",
    "        \n",
    "        self.conv1 = tf.keras.layers.Conv2D(filters=self.k, kernel_size=(3,3), kernel_initializer=self.initializer, \\\n",
    "                                       padding='valid', use_bias=False)\n",
    "        \n",
    "        self.conv2 = tf.keras.layers.Conv2D(filters=self.k, kernel_size=(3,3), kernel_initializer=self.initializer, \\\n",
    "                                       padding='valid', use_bias=False)\n",
    "        \n",
    "        \n",
    "        self.instnorm1 = InstanceNormalization()\n",
    "        self.instnorm2 = InstanceNormalization()\n",
    "        \n",
    "        self.reluact1 = tf.keras.layers.ReLU()\n",
    "        self.reluact2 = tf.keras.layers.ReLU()\n",
    "        \n",
    "    def call(self, input_data):\n",
    "        pad_input = tf.pad(input_data, [[0, 0], [1, 1], [1, 1], [0, 0]], \"REFLECT\")\n",
    "        x = self.conv1(pad_input)\n",
    "        x = self.instnorm1(x)\n",
    "        x = self.reluact1(x)\n",
    "\n",
    "        pad_input2 = tf.pad(x, [[0, 0], [1, 1], [1, 1], [0, 0]], \"REFLECT\")\n",
    "        y = self.conv2(pad_input2)\n",
    "        y = self.instnorm2(y)\n",
    "\n",
    "        out = x + y \n",
    "        out = self.reluact2(out)\n",
    "\n",
    "        return out"
   ]
  },
  {
   "cell_type": "code",
   "execution_count": 6,
   "id": "ac3bc2c5",
   "metadata": {},
   "outputs": [],
   "source": [
    "def uk(k, initializer):\n",
    "    '''\n",
    "    3 × 3 fractional-strided-Convolution-InstanceNorm-ReLU layer with k filters and stride 1/2\n",
    "    '''\n",
    "    model = tf.keras.models.Sequential()\n",
    "    model.add(tf.keras.layers.Conv2DTranspose(filters=k, kernel_size=(3,3), strides=(2,2), padding='same', \\\n",
    "                                     kernel_initializer=initializer, use_bias=False))\n",
    "    model.add(InstanceNormalization())\n",
    "    model.add(tf.keras.layers.ReLU())\n",
    "    \n",
    "    return model"
   ]
  },
  {
   "cell_type": "code",
   "execution_count": 7,
   "id": "8c2564d9",
   "metadata": {},
   "outputs": [],
   "source": [
    "class Generator(tf.keras.Model):\n",
    "    def __init__(self):\n",
    "        super(Generator, self).__init__()\n",
    "        \n",
    "        self.initializer = tf.compat.v1.truncated_normal_initializer(0., 0.02)   \n",
    "        \n",
    "        self.en1 = c7s1_k(64, self.initializer)\n",
    "        self.en2 = dk(128, self.initializer)\n",
    "        self.en3 = dk(256, self.initializer)\n",
    "        \n",
    "        self.res1 = Rk(256, self.initializer)\n",
    "        self.res2 = Rk(256, self.initializer)\n",
    "        self.res3 = Rk(256, self.initializer)\n",
    "        self.res4 = Rk(256, self.initializer)\n",
    "        self.res5 = Rk(256, self.initializer)\n",
    "        self.res6 = Rk(256, self.initializer)\n",
    "        \n",
    "        self.de3 = uk(128, self.initializer)\n",
    "        self.de2 = uk(64, self.initializer)\n",
    "        self.de1 = c7s1_k(3, self.initializer, 'tanh')\n",
    "        \n",
    "    def call(self, input_tensor):\n",
    "        x = self.en1(input_tensor)\n",
    "        x = self.en2(x)\n",
    "        x = self.en3(x)\n",
    "        \n",
    "        x = self.res1(x)\n",
    "        x = self.res2(x)\n",
    "        x = self.res3(x)\n",
    "        x = self.res4(x)\n",
    "        x = self.res5(x)\n",
    "        x = self.res6(x)\n",
    "        \n",
    "        x = self.de3(x)\n",
    "        x = self.de2(x)\n",
    "        x = self.de1(x)\n",
    "        \n",
    "        return x"
   ]
  },
  {
   "cell_type": "code",
   "execution_count": 8,
   "id": "32d44e60",
   "metadata": {},
   "outputs": [],
   "source": [
    "input_dim = (128,128,3)\n",
    "input_data = tf.random.uniform(shape=(1,128,128,3))"
   ]
  },
  {
   "cell_type": "code",
   "execution_count": 9,
   "id": "8b06a3f6",
   "metadata": {},
   "outputs": [
    {
     "name": "stdout",
     "output_type": "stream",
     "text": [
      "Model: \"generator\"\n",
      "_________________________________________________________________\n",
      " Layer (type)                Output Shape              Param #   \n",
      "=================================================================\n",
      " sequential (Sequential)     (1, 128, 128, 64)         9536      \n",
      "                                                                 \n",
      " sequential_1 (Sequential)   (1, 64, 64, 128)          73984     \n",
      "                                                                 \n",
      " sequential_2 (Sequential)   (1, 32, 32, 256)          295424    \n",
      "                                                                 \n",
      " rk (Rk)                     multiple                  1180672   \n",
      "                                                                 \n",
      " rk_1 (Rk)                   multiple                  1180672   \n",
      "                                                                 \n",
      " rk_2 (Rk)                   multiple                  1180672   \n",
      "                                                                 \n",
      " rk_3 (Rk)                   multiple                  1180672   \n",
      "                                                                 \n",
      " rk_4 (Rk)                   multiple                  1180672   \n",
      "                                                                 \n",
      " rk_5 (Rk)                   multiple                  1180672   \n",
      "                                                                 \n",
      " sequential_3 (Sequential)   (1, 64, 64, 128)          295168    \n",
      "                                                                 \n",
      " sequential_4 (Sequential)   (1, 128, 128, 64)         73856     \n",
      "                                                                 \n",
      " sequential_5 (Sequential)   (1, 128, 128, 3)          9414      \n",
      "                                                                 \n",
      "=================================================================\n",
      "Total params: 7,841,414\n",
      "Trainable params: 7,841,414\n",
      "Non-trainable params: 0\n",
      "_________________________________________________________________\n"
     ]
    }
   ],
   "source": [
    "model = Generator()\n",
    "_ = model(input_data)\n",
    "model.summary()"
   ]
  },
  {
   "cell_type": "code",
   "execution_count": 10,
   "id": "ae30816b",
   "metadata": {},
   "outputs": [],
   "source": [
    "def Ck(k, stride, initializer, do_norm=True):\n",
    "    '''\n",
    "    4 × 4 Convolution-InstanceNorm-LeakyReLU layer with k filters and stride 2.\n",
    "    '''\n",
    "    model = tf.keras.Sequential()\n",
    "    model.add(tf.keras.layers.Conv2D(filters=k, kernel_size=(4,4), strides=stride, padding='same', \\\n",
    "                                     kernel_initializer=initializer, use_bias=False))\n",
    "    if do_norm:\n",
    "        model.add(InstanceNormalization())\n",
    "    \n",
    "    model.add(tf.keras.layers.LeakyReLU(0.2))\n",
    "    \n",
    "    return model"
   ]
  },
  {
   "cell_type": "code",
   "execution_count": 11,
   "id": "4207dbfe",
   "metadata": {},
   "outputs": [],
   "source": [
    "class Discriminator(tf.keras.Model):\n",
    "    def __init__(self):\n",
    "        super(Discriminator, self).__init__()\n",
    "        self.initializer = tf.compat.v1.truncated_normal_initializer(0., 0.02)   \n",
    "        \n",
    "        self.c64 = Ck(64, (2,2), self.initializer, False)\n",
    "        self.c128 = Ck(128, (2,2), self.initializer)\n",
    "        self.c256 = Ck(256, (2,2), self.initializer)\n",
    "        self.c512 = Ck(512, (1,1), self.initializer)\n",
    "        \n",
    "        self.conv = tf.keras.layers.Conv2D(filters=1, kernel_size=(4,4), strides=(1,1), padding='same',\n",
    "                                           kernel_initializer=self.initializer, use_bias=False)\n",
    "        \n",
    "    def call(self, input_tensor):\n",
    "        input_tensor = input_tensor + tf.random.normal(shape=tf.shape(input_tensor), mean=0.0, stddev=0.1, dtype=tf.float32)\n",
    "        x = self.c64(input_tensor)\n",
    "        x = self.c128(x)\n",
    "        x = self.c256(x)\n",
    "        x = self.c512(x)\n",
    "        \n",
    "        x = self.conv(x)\n",
    "        \n",
    "        return x   "
   ]
  },
  {
   "cell_type": "code",
   "execution_count": 12,
   "id": "63d63b22",
   "metadata": {},
   "outputs": [
    {
     "name": "stdout",
     "output_type": "stream",
     "text": [
      "Model: \"discriminator\"\n",
      "_________________________________________________________________\n",
      " Layer (type)                Output Shape              Param #   \n",
      "=================================================================\n",
      " sequential_6 (Sequential)   (1, 64, 64, 64)           3072      \n",
      "                                                                 \n",
      " sequential_7 (Sequential)   (1, 32, 32, 128)          131328    \n",
      "                                                                 \n",
      " sequential_8 (Sequential)   (1, 16, 16, 256)          524800    \n",
      "                                                                 \n",
      " sequential_9 (Sequential)   (1, 16, 16, 512)          2098176   \n",
      "                                                                 \n",
      " conv2d_20 (Conv2D)          multiple                  8192      \n",
      "                                                                 \n",
      "=================================================================\n",
      "Total params: 2,765,568\n",
      "Trainable params: 2,765,568\n",
      "Non-trainable params: 0\n",
      "_________________________________________________________________\n"
     ]
    }
   ],
   "source": [
    "model = Discriminator()\n",
    "_ = model(input_data)\n",
    "model.summary()"
   ]
  },
  {
   "cell_type": "code",
   "execution_count": 13,
   "id": "0811cbf9",
   "metadata": {},
   "outputs": [],
   "source": [
    "del input_data, input_dim"
   ]
  },
  {
   "cell_type": "code",
   "execution_count": 14,
   "id": "c4c0f729",
   "metadata": {},
   "outputs": [],
   "source": [
    "LAMBDA = 10\n",
    "loss = tf.keras.losses.BinaryCrossentropy(from_logits=True)\n",
    "\n",
    "def D_loss(real, generated):\n",
    "    return (loss(tf.ones_like(real), real) + loss(tf.zeros_like(generated), generated)) * 0.5\n",
    "\n",
    "def G_loss(generated):\n",
    "    return loss(tf.ones_like(generated), generated)\n",
    "\n",
    "def Similarity_loss(image1, image2):\n",
    "    return tf.reduce_mean(tf.abs(image1 - image2))"
   ]
  },
  {
   "cell_type": "code",
   "execution_count": 15,
   "id": "56bb8601",
   "metadata": {},
   "outputs": [],
   "source": [
    "# Code credit: https://www.tensorflow.org/tutorials/generative/cyclegan\n",
    "# Generate image from particular model when feeding test_input as input\n",
    "def generate_images(model, test_input):\n",
    "    prediction = model(test_input)\n",
    "    \n",
    "    plt.figure(figsize=(12, 12))\n",
    "\n",
    "    display_list = [test_input[0], prediction[0]]\n",
    "    title = ['Input Image', 'Predicted Image']\n",
    "\n",
    "    for i in range(2):\n",
    "        plt.subplot(1, 2, i+1)\n",
    "        plt.title(title[i])\n",
    "        # getting the pixel values between [0, 1] to plot it.\n",
    "        plt.imshow(display_list[i]*0.5+0.5)\n",
    "        plt.axis('off')\n",
    "    plt.show()"
   ]
  },
  {
   "cell_type": "code",
   "execution_count": 16,
   "id": "f7d1bb1f",
   "metadata": {},
   "outputs": [],
   "source": [
    "@tf.function\n",
    "def train_step(real_x, real_y):\n",
    "    with tf.GradientTape(persistent=True) as tape:\n",
    "        # Setup Dy loss\n",
    "        fake_y = G(real_x, training=True)\n",
    "        disc_fake_y = Dy(fake_y, training=True)\n",
    "        dis_y_loss = D_loss(Dy(real_y, training=True), disc_fake_y)\n",
    "\n",
    "        with tape.stop_recording():\n",
    "            Dy_gradients = tape.gradient(dis_y_loss, Dy.trainable_variables)\n",
    "            Dy_optimizer.apply_gradients(zip(Dy_gradients, Dy.trainable_variables))\n",
    "\n",
    "        # Setup Dx loss\n",
    "        fake_x = F(real_y, training=True)\n",
    "        disc_fake_x = Dx(fake_x, training=True)\n",
    "        dis_x_loss = D_loss(Dx(real_x, training=True), disc_fake_x)\n",
    "\n",
    "        with tape.stop_recording():\n",
    "            Dx_gradients = tape.gradient(dis_x_loss, Dx.trainable_variables)\n",
    "            Dx_optimizer.apply_gradients(zip(Dx_gradients, Dx.trainable_variables))\n",
    "\n",
    "        # Setup adversarial losses\n",
    "        gen_g_adv_loss = G_loss(disc_fake_y)\n",
    "        gen_f_adv_loss = G_loss(disc_fake_x)\n",
    "\n",
    "        # Setup cycle losses\n",
    "        cyc_x = F(fake_y, training=True)\n",
    "        cyc_x_loss = Similarity_loss(real_x, cyc_x)\n",
    "\n",
    "        cyc_y = G(fake_x, training=True)\n",
    "        cyc_y_loss =  Similarity_loss(real_y, cyc_y)\n",
    "\n",
    "        # Setup identity losses\n",
    "        id_x = F(real_x, training=True)\n",
    "        id_x_loss = Similarity_loss(real_x, id_x)\n",
    "\n",
    "        id_y = G(real_y, training=True)\n",
    "        id_y_loss = Similarity_loss(real_y, id_y)\n",
    "\n",
    "        # Finalize generator losses and calc gradients\n",
    "        gen_g_loss = gen_g_adv_loss + (cyc_x_loss + cyc_y_loss) * LAMBDA + id_y_loss * 0.5 * LAMBDA\n",
    "        gen_f_loss = gen_f_adv_loss + (cyc_x_loss + cyc_y_loss) * LAMBDA + id_x_loss * 0.5 * LAMBDA\n",
    "\n",
    "        with tape.stop_recording():\n",
    "            G_gradients = tape.gradient(gen_g_loss, G.trainable_variables)\n",
    "            G_optimizer.apply_gradients(zip(G_gradients, G.trainable_variables))\n",
    "\n",
    "            F_gradients = tape.gradient(gen_f_loss, F.trainable_variables)\n",
    "            F_optimizer.apply_gradients(zip(F_gradients, F.trainable_variables))\n",
    "    \n",
    "    return gen_g_loss,gen_f_loss,dis_x_loss,dis_y_loss"
   ]
  },
  {
   "cell_type": "code",
   "execution_count": 17,
   "id": "0756552e",
   "metadata": {},
   "outputs": [],
   "source": [
    "# Download dataset from original site.\n",
    "\n",
    "data_dir = tf.keras.utils.get_file(fname='monet2photo.zip', origin='https://people.eecs.berkeley.edu/~taesung_park/CycleGAN/datasets/monet2photo.zip', \\\n",
    "                        extract=True, archive_format='zip', cache_dir='./')\n",
    "data_dir = tf.keras.utils.get_file(fname='cezanne2photo.zip', origin='https://people.eecs.berkeley.edu/~taesung_park/CycleGAN/datasets/cezanne2photo.zip', \\\n",
    "                        extract=True, archive_format='zip', cache_dir='./')\n",
    "data_dir = tf.keras.utils.get_file(fname='vangogh2photo.zip', origin='https://people.eecs.berkeley.edu/~taesung_park/CycleGAN/datasets/vangogh2photo.zip', \\\n",
    "                        extract=True, archive_format='zip', cache_dir='./')\n",
    "data_dir = tf.keras.utils.get_file(fname='ukiyoe2photo.zip', origin='https://people.eecs.berkeley.edu/~taesung_park/CycleGAN/datasets/ukiyoe2photo.zip', \\\n",
    "                        extract=True, archive_format='zip', cache_dir='./')"
   ]
  },
  {
   "cell_type": "code",
   "execution_count": 18,
   "id": "c80fc06d",
   "metadata": {},
   "outputs": [
    {
     "name": "stdout",
     "output_type": "stream",
     "text": [
      "List of folder inside dataset\n"
     ]
    },
    {
     "data": {
      "text/plain": [
       "['cezanne2photo', 'monet2photo', 'ukiyoe2photo', 'vangogh2photo']"
      ]
     },
     "execution_count": 18,
     "metadata": {},
     "output_type": "execute_result"
    }
   ],
   "source": [
    "data_dir = pathlib.Path('./datasets')\n",
    "print('List of folder inside dataset')\n",
    "ldir = []\n",
    "for i in list(os.listdir(str(data_dir))):\n",
    "    try:\n",
    "        if i.split('.')[1]:\n",
    "            continue\n",
    "    except:\n",
    "        ldir.append(i)\n",
    "ldir"
   ]
  },
  {
   "cell_type": "code",
   "execution_count": 19,
   "id": "74805551",
   "metadata": {},
   "outputs": [
    {
     "data": {
      "text/plain": [
       "['testA', 'testB', 'trainA', 'trainB']"
      ]
     },
     "execution_count": 19,
     "metadata": {},
     "output_type": "execute_result"
    }
   ],
   "source": [
    "# Each dataset folder contain\n",
    "os.listdir(str(data_dir)+'/'+ldir[0])"
   ]
  },
  {
   "cell_type": "code",
   "execution_count": 20,
   "id": "c9ab4db9",
   "metadata": {},
   "outputs": [
    {
     "name": "stdout",
     "output_type": "stream",
     "text": [
      "-------- For this folder: datasets\\cezanne2photo --------\n",
      "Number of images contain trainA\n",
      "525\n",
      "\n",
      "Number of images contain trainB\n",
      "6287\n",
      "-------- For this folder: datasets\\monet2photo --------\n",
      "Number of images contain trainA\n",
      "1072\n",
      "\n",
      "Number of images contain trainB\n",
      "6287\n",
      "-------- For this folder: datasets\\ukiyoe2photo --------\n",
      "Number of images contain trainA\n",
      "562\n",
      "\n",
      "Number of images contain trainB\n",
      "6287\n",
      "-------- For this folder: datasets\\vangogh2photo --------\n",
      "Number of images contain trainA\n",
      "400\n",
      "\n",
      "Number of images contain trainB\n",
      "6287\n"
     ]
    }
   ],
   "source": [
    "TotalImg_A = 0\n",
    "TotalImg_B = 0\n",
    "for i in range(len(ldir)):\n",
    "    dataset_sub = pathlib.Path(str(data_dir)+'/'+ldir[i]+'/')\n",
    "    \n",
    "    print('-------- For this folder:',dataset_sub,'--------')\n",
    "    print('Number of images contain trainA')\n",
    "    len_A = len(list(dataset_sub.glob('trainA/*')))\n",
    "    TotalImg_A += len_A\n",
    "    print(len_A)\n",
    "    print('\\nNumber of images contain trainB')\n",
    "    len_B = len(list(dataset_sub.glob('trainB/*')))\n",
    "    print(len_B)\n",
    "\n",
    "TotalImg_B += len_B\n",
    "    \n",
    "list_1 = tf.data.Dataset.list_files(str(data_dir)+'/'+ldir[0]+'/trainA/*')\n",
    "list_2 = tf.data.Dataset.list_files(str(data_dir)+'/'+ldir[1]+'/trainA/*')\n",
    "list_A = list_1.concatenate(list_2)\n",
    "list_3 = tf.data.Dataset.list_files(str(data_dir)+'/'+ldir[2]+'/trainA/*')\n",
    "list_A = list_A.concatenate(list_3)\n",
    "list_4 = tf.data.Dataset.list_files(str(data_dir)+'/'+ldir[3]+'/trainA/*')\n",
    "list_A = list_A.concatenate(list_4)\n",
    "\n",
    "list_B = tf.data.Dataset.list_files(str(data_dir)+'/'+ldir[0]+'/trainB/*')\n",
    "del list_1, list_2, list_3, list_4"
   ]
  },
  {
   "cell_type": "code",
   "execution_count": 21,
   "id": "c080ee7c",
   "metadata": {},
   "outputs": [
    {
     "name": "stdout",
     "output_type": "stream",
     "text": [
      "Total Number of Images in trainA (artist) 2559\n",
      "Total Number of Images in trainB (photo) 6287\n"
     ]
    }
   ],
   "source": [
    "print('Total Number of Images in trainA (artist)',TotalImg_A)\n",
    "print('Total Number of Images in trainB (photo)',TotalImg_B)"
   ]
  },
  {
   "cell_type": "code",
   "execution_count": 22,
   "id": "ac3a08ca",
   "metadata": {},
   "outputs": [],
   "source": [
    "BATCH_SIZE = 1\n",
    "IMG_HEIGHT = 256\n",
    "IMG_WIDTH = 256"
   ]
  },
  {
   "cell_type": "code",
   "execution_count": 23,
   "id": "3417bf3b",
   "metadata": {},
   "outputs": [
    {
     "name": "stdout",
     "output_type": "stream",
     "text": [
      "List of files from trainA directory\n",
      "b'datasets\\\\cezanne2photo\\\\trainA\\\\00447.jpg'\n",
      "b'datasets\\\\cezanne2photo\\\\trainA\\\\00578.jpg'\n",
      "b'datasets\\\\cezanne2photo\\\\trainA\\\\00479.jpg'\n",
      "b'datasets\\\\cezanne2photo\\\\trainA\\\\00255.jpg'\n",
      "b'datasets\\\\cezanne2photo\\\\trainA\\\\00471.jpg'\n",
      "\n",
      "List of files from trainB directory\n",
      "b'datasets\\\\cezanne2photo\\\\trainB\\\\2015-03-21 15_49_02.jpg'\n",
      "b'datasets\\\\cezanne2photo\\\\trainB\\\\2016-12-24 10_41_51.jpg'\n",
      "b'datasets\\\\cezanne2photo\\\\trainB\\\\2016-05-30 11_23_32.jpg'\n",
      "b'datasets\\\\cezanne2photo\\\\trainB\\\\2015-12-09 15_20_22.jpg'\n",
      "b'datasets\\\\cezanne2photo\\\\trainB\\\\2016-03-15 06_31_00.jpg'\n"
     ]
    }
   ],
   "source": [
    "print('List of files from trainA directory')\n",
    "for f in list_A.take(5):\n",
    "    print(f.numpy())\n",
    "    \n",
    "print('\\nList of files from trainB directory')    \n",
    "for f in list_B.take(5):\n",
    "    print(f.numpy())  "
   ]
  },
  {
   "cell_type": "code",
   "execution_count": 24,
   "id": "d83b2993",
   "metadata": {},
   "outputs": [
    {
     "name": "stdout",
     "output_type": "stream",
     "text": [
      "Print the size of a image from trainA folder\n",
      "(128, 128, 3)\n",
      "\n",
      "Print the size of a image from trainB folder\n",
      "(128, 128, 3)\n"
     ]
    }
   ],
   "source": [
    "def random_crop(image):\n",
    "    cropped_image = tf.image.random_crop(image, size=[IMG_HEIGHT, IMG_WIDTH, 3])\n",
    "    \n",
    "    return cropped_image\n",
    "\n",
    "def random_jitter(image):\n",
    "    # resizing to 286 x 286 x 3\n",
    "    image = tf.image.resize(image, [286, 286], method=tf.image.ResizeMethod.NEAREST_NEIGHBOR)\n",
    "\n",
    "    # randomly cropping to 256 x 256 x 3\n",
    "    image = random_crop(image)\n",
    "\n",
    "    # random mirroring\n",
    "    image = tf.image.random_flip_left_right(image)\n",
    "\n",
    "    return image\n",
    "\n",
    "def normalize(img):\n",
    "    img = tf.cast(img, tf.float32)\n",
    "    img = (img / 127.5) - 1\n",
    "    return img\n",
    "\n",
    "def read_file(filename):\n",
    "    # read the filename\n",
    "    x = tf.io.read_file(filename)\n",
    "    # Convert into color image\n",
    "    x = tf.image.decode_jpeg(x, channels=3)\n",
    "    x = random_jitter(x)\n",
    "    x = normalize(x)\n",
    "    # return image with specific image width and height\n",
    "    return tf.image.resize(x, [IMG_WIDTH//2, IMG_HEIGHT//2])\n",
    "\n",
    "print('Print the size of a image from trainA folder')\n",
    "trainA = list_A.map(read_file, num_parallel_calls=-1)\n",
    "for i in trainA.take(1):\n",
    "    print(i.numpy().shape)\n",
    "    \n",
    "print('\\nPrint the size of a image from trainB folder')\n",
    "trainB = list_B.map(read_file, num_parallel_calls=-1)\n",
    "for i in trainB.take(1):\n",
    "    print(i.numpy().shape)"
   ]
  },
  {
   "cell_type": "code",
   "execution_count": 25,
   "id": "3c020819",
   "metadata": {},
   "outputs": [],
   "source": [
    "Total_Img = math.floor(min(TotalImg_A,TotalImg_B)/100) * 100\n",
    "\n",
    "trainA = trainA.shuffle(Total_Img).batch(BATCH_SIZE)\n",
    "trainB = trainB.shuffle(Total_Img).batch(BATCH_SIZE)"
   ]
  },
  {
   "cell_type": "code",
   "execution_count": 26,
   "id": "9c2179d8",
   "metadata": {},
   "outputs": [
    {
     "data": {
      "image/png": "[encoded data removed]",
      "text/plain": [
       "<Figure size 432x288 with 2 Axes>"
      ]
     },
     "metadata": {
      "needs_background": "light"
     },
     "output_type": "display_data"
    }
   ],
   "source": [
    "sampleA = next(iter(trainA))\n",
    "sampleB = next(iter(trainB))\n",
    "\n",
    "plt.subplot(121)\n",
    "plt.imshow(sampleA[0]*0.5+0.5)\n",
    "plt.title('sample image from trainA')\n",
    "plt.subplot(122)\n",
    "plt.imshow(sampleB[0]*0.5+0.5)\n",
    "plt.title('sample image from trainB')\n",
    "plt.show()"
   ]
  },
  {
   "cell_type": "code",
   "execution_count": 27,
   "id": "0cabbbdc",
   "metadata": {},
   "outputs": [
    {
     "name": "stdout",
     "output_type": "stream",
     "text": [
      "Create instance of all models and save initial weights when model instanstiad: G, F, Dx, Dy\n"
     ]
    }
   ],
   "source": [
    "print('Create instance of all models and save initial weights when model instanstiad: G, F, Dx, Dy')\n",
    "inp_shape=(IMG_WIDTH//2,IMG_HEIGHT//2,3)\n",
    "inp = tf.keras.Input(shape=inp_shape)\n",
    "\n",
    "G = Generator()\n",
    "_ = G(inp)\n",
    "G.save_weights('./weights/G_Weights')\n",
    "\n",
    "F = Generator()\n",
    "_ = F(inp)\n",
    "F.save_weights('./weights/F_Weights')\n",
    "\n",
    "Dx = Discriminator()\n",
    "_ = Dx(inp)\n",
    "Dx.save_weights('./weights/Dx_Weights')\n",
    "\n",
    "Dy = Discriminator()\n",
    "_ = Dy(inp)\n",
    "Dy.save_weights('./weights/Dy_Weights')\n",
    "\n",
    "del G, F, Dx, Dy"
   ]
  },
  {
   "cell_type": "code",
   "execution_count": 28,
   "id": "a1645eb8",
   "metadata": {},
   "outputs": [
    {
     "name": "stdout",
     "output_type": "stream",
     "text": [
      "Reload the initial weights\n",
      "optimizer defining...\n"
     ]
    }
   ],
   "source": [
    "print('Reload the initial weights')\n",
    "inp_shape=(IMG_WIDTH//2,IMG_HEIGHT//2,3)\n",
    "G = Generator()\n",
    "G.load_weights('./weights/G_Weights')\n",
    "F = Generator()\n",
    "F.load_weights('./weights/F_Weights')\n",
    "Dx = Discriminator()\n",
    "Dx.load_weights('./weights/Dx_Weights')\n",
    "Dy = Discriminator()\n",
    "Dy.load_weights('./weights/Dy_Weights')\n",
    "\n",
    "\n",
    "# A per paper, it used lamda = 10\n",
    "lr = 0.0002\n",
    "\n",
    "print('optimizer defining...')\n",
    "# Define Optimizer for G and F model\n",
    "G_optimizer = tf.keras.optimizers.Adam(lr, beta_1=0.5)\n",
    "F_optimizer = tf.keras.optimizers.Adam(lr, beta_1=0.5)\n",
    "# Define Optimizer for Dx and Dy model\n",
    "Dx_optimizer = tf.keras.optimizers.Adam(lr, beta_1=0.5)\n",
    "Dy_optimizer = tf.keras.optimizers.Adam(lr, beta_1=0.5)"
   ]
  },
  {
   "cell_type": "code",
   "execution_count": null,
   "id": "2fce631f",
   "metadata": {},
   "outputs": [
    {
     "name": "stdout",
     "output_type": "stream",
     "text": [
      "..."
     ]
    }
   ],
   "source": [
    "deltalr = lr/100\n",
    "log_dir=\"logs/\"\n",
    "\n",
    "G_Loss_M = tf.metrics.Mean()\n",
    "F_Loss_M = tf.metrics.Mean()\n",
    "Dx_Loss_M = tf.metrics.Mean()\n",
    "Dy_Loss_M = tf.metrics.Mean()\n",
    "\n",
    "summary_writer_epoch = tf.summary.create_file_writer(log_dir + \"train_per_epoch/\")\n",
    "summary_writer_steps = tf.summary.create_file_writer(log_dir + \"train_per_step/\")\n",
    "\n",
    "for epoch in range(200):\n",
    "    tf.keras.backend.clear_session()\n",
    "    \n",
    "    l_G = []\n",
    "    l_F = []\n",
    "    l_Dy = []\n",
    "    l_Dx = []\n",
    "\n",
    "    # After 100 epoch learning rate set to linear decay\n",
    "    if epoch >= 100:\n",
    "        lr = lr - deltalr\n",
    "        # Update learning rate in Optimizer for G and F model\n",
    "        tf.keras.backend.set_value(G_optimizer.lr, lr)\n",
    "        tf.keras.backend.set_value(F_optimizer.lr, lr)\n",
    "        # Update learning rate in Optimizer for Dx and Dy model\n",
    "        tf.keras.backend.set_value(Dx_optimizer.lr, lr)\n",
    "        tf.keras.backend.set_value(Dy_optimizer.lr, lr)\n",
    "        \n",
    "    start = time.time()\n",
    "    n = 0\n",
    "    for image_x, image_y in zip(trainA, trainB):\n",
    "        total_gen_g_loss,total_gen_f_loss,disc_x_loss,disc_y_loss = train_step(image_x, image_y)\n",
    "        \n",
    "        l_G.append(total_gen_g_loss)\n",
    "        l_F.append(total_gen_f_loss)\n",
    "        l_Dx.append(disc_x_loss)\n",
    "        l_Dy.append(disc_y_loss)\n",
    "        \n",
    "        if n % 100 == 0:\n",
    "            print('.', end='')\n",
    "            with summary_writer_steps.as_default():\n",
    "                tf.summary.scalar('Total_Gloss', total_gen_g_loss, step=epoch*Total_Img+n)\n",
    "                tf.summary.scalar('Total_Floss', total_gen_f_loss, step=epoch*Total_Img+n)\n",
    "                tf.summary.scalar('Dx_loss', disc_x_loss, step=epoch*Total_Img+n)\n",
    "                tf.summary.scalar('Dy_loss', disc_y_loss, step=epoch*Total_Img+n)\n",
    "                \n",
    "        n+=1\n",
    "        \n",
    "    # Clear the output\n",
    "    clear_output(wait=True)\n",
    "    # generate image based on Generator G\n",
    "    generate_images(G, sampleA)\n",
    "    # generate image based on Generator F\n",
    "    generate_images(F, sampleB)\n",
    "    \n",
    "    \n",
    "    G_Loss_M.update_state(l_G)\n",
    "    F_Loss_M.update_state(l_F)\n",
    "    Dx_Loss_M.update_state(l_Dx)\n",
    "    Dy_Loss_M.update_state(l_Dy)\n",
    "    \n",
    "    with summary_writer_epoch.as_default():\n",
    "        tf.summary.scalar('Total_Gloss', G_Loss_M.result().numpy(), step=epoch)\n",
    "        tf.summary.scalar('Total_Floss', F_Loss_M.result().numpy(), step=epoch)\n",
    "        tf.summary.scalar('Dx_loss', Dx_Loss_M.result().numpy(), step=epoch)\n",
    "        tf.summary.scalar('Dy_loss', Dy_Loss_M.result().numpy(), step=epoch)\n",
    "        \n",
    "    G_Loss_M.reset_states()\n",
    "    F_Loss_M.reset_states()\n",
    "    Dx_Loss_M.reset_states()\n",
    "    Dy_Loss_M.reset_states()\n",
    "    \n",
    "    if (epoch+1) % 10 == 0:\n",
    "        print('Saving weights')\n",
    "        G.save_weights('./train/G_Weights_epoch'+str(epoch+1))\n",
    "        F.save_weights('./train/F_Weights_epoch'+str(epoch+1))\n",
    "        Dx.save_weights('./train/Dx_Weights_epoch'+str(epoch+1))\n",
    "        Dy.save_weights('./train/Dy_Weights_epoch'+str(epoch+1))\n",
    "    \n",
    "    print ('Time taken for epoch {} is {} sec\\n'.format(epoch+1, time.time()-start))"
   ]
  },
  {
   "cell_type": "code",
   "execution_count": null,
   "id": "aafbabf8",
   "metadata": {},
   "outputs": [],
   "source": [
    "G.save('G_Model')\n",
    "F.save('F_Model')\n",
    "Dx.save('Dx_Model')\n",
    "Dy.save('Dy_Model')"
   ]
  },
  {
   "cell_type": "code",
   "execution_count": null,
   "id": "73e4e07e",
   "metadata": {},
   "outputs": [],
   "source": [
    "for inp in trainB.take(5):\n",
    "    generate_images(F, inp)"
   ]
  }
 ],
 "metadata": {
  "kernelspec": {
   "display_name": "Python 3 (ipykernel)",
   "language": "python",
   "name": "python3"
  },
  "language_info": {
   "codemirror_mode": {
    "name": "ipython",
    "version": 3
   },
   "file_extension": ".py",
   "mimetype": "text/x-python",
   "name": "python",
   "nbconvert_exporter": "python",
   "pygments_lexer": "ipython3",
   "version": "3.9.12"
  }
 },
 "nbformat": 4,
 "nbformat_minor": 5
}
